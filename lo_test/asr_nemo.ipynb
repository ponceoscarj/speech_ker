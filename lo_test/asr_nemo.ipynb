{
 "cells": [
  {
   "cell_type": "code",
   "execution_count": 17,
   "metadata": {
    "colab": {
     "base_uri": "https://localhost:8080/"
    },
    "executionInfo": {
     "elapsed": 1261,
     "status": "ok",
     "timestamp": 1733409418307,
     "user": {
      "displayName": "Paul Barr",
      "userId": "05508434990966114897"
     },
     "user_tz": 480
    },
    "id": "MLeZtcIuHuW4",
    "outputId": "99979113-280e-4fce-ca17-3661b9a9c6c4"
   },
   "outputs": [
    {
     "name": "stdout",
     "output_type": "stream",
     "text": [
      "Drive already mounted at /content/drive; to attempt to forcibly remount, call drive.mount(\"/content/drive\", force_remount=True).\n"
     ]
    }
   ],
   "source": [
    "import os\n",
    "from google.colab import drive\n",
    "from google.colab import userdata\n",
    "drive.mount('/content/drive')"
   ]
  },
  {
   "cell_type": "code",
   "execution_count": 20,
   "metadata": {
    "executionInfo": {
     "elapsed": 869,
     "status": "ok",
     "timestamp": 1733409459507,
     "user": {
      "displayName": "Paul Barr",
      "userId": "05508434990966114897"
     },
     "user_tz": 480
    },
    "id": "Rkl4No4tH3gE"
   },
   "outputs": [],
   "source": [
    "os.chdir('/content/drive/MyDrive/speech_ker')\n",
    "token = userdata.get('gh_pat')"
   ]
  },
  {
   "cell_type": "code",
   "execution_count": null,
   "metadata": {
    "executionInfo": {
     "elapsed": 152,
     "status": "ok",
     "timestamp": 1733409541798,
     "user": {
      "displayName": "Paul Barr",
      "userId": "05508434990966114897"
     },
     "user_tz": 480
    },
    "id": "8ggAH6XnPWhx"
   },
   "outputs": [],
   "source": [
    "!git add .\n",
    "!git commit -m \"testing colab ipynb\""
   ]
  }
 ],
 "metadata": {
  "accelerator": "GPU",
  "colab": {
   "authorship_tag": "ABX9TyPMxQiH44FVJHWc43EOtpGD",
   "gpuType": "A100",
   "machine_shape": "hm",
   "provenance": []
  },
  "kernelspec": {
   "display_name": "nemo",
   "language": "python",
   "name": "python3"
  },
  "language_info": {
   "name": "python",
   "version": "3.10.15"
  }
 },
 "nbformat": 4,
 "nbformat_minor": 0
}
